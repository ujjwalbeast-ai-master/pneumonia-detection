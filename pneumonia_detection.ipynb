{
 "cells": [
  {
   "cell_type": "markdown",
   "id": "0fe2a9ee",
   "metadata": {},
   "source": [
    "# 🫁 Pneumonia Detection Using Deep Learning | ResNet50 + TensorFlow\n",
    "\n",
    "This notebook uses transfer learning with ResNet50 to detect Pneumonia from chest X-ray images.\n",
    "Author: Ujjwal Pal"
   ]
  },
  {
   "cell_type": "code",
   "execution_count": null,
   "id": "a399c5e4",
   "metadata": {},
   "outputs": [],
   "source": [
    "# Install required libraries (if running on Colab)\n",
    "# !pip install tensorflow matplotlib numpy pandas opencv-python scikit-learn"
   ]
  },
  {
   "cell_type": "code",
   "execution_count": null,
   "id": "3bfc2474",
   "metadata": {},
   "outputs": [],
   "source": [
    "import os\n",
    "import numpy as np\n",
    "import tensorflow as tf\n",
    "import matplotlib.pyplot as plt\n",
    "from tensorflow.keras.preprocessing.image import ImageDataGenerator\n",
    "from tensorflow.keras.applications import ResNet50\n",
    "from tensorflow.keras.layers import Dense, GlobalAveragePooling2D\n",
    "from tensorflow.keras.models import Model\n",
    "from sklearn.metrics import classification_report, confusion_matrix"
   ]
  },
  {
   "cell_type": "markdown",
   "id": "11c0ae71",
   "metadata": {},
   "source": [
    "## 📂 Load Dataset"
   ]
  },
  {
   "cell_type": "code",
   "execution_count": null,
   "id": "10009cb6",
   "metadata": {},
   "outputs": [],
   "source": [
    "# Set dataset directories\n",
    "base_dir = 'chest_xray'\n",
    "train_dir = os.path.join(base_dir, 'train')\n",
    "val_dir = os.path.join(base_dir, 'val')\n",
    "test_dir = os.path.join(base_dir, 'test')"
   ]
  },
  {
   "cell_type": "markdown",
   "id": "eb005613",
   "metadata": {},
   "source": [
    "## 🌀 Data Generators"
   ]
  },
  {
   "cell_type": "code",
   "execution_count": null,
   "id": "f5fe93b3",
   "metadata": {},
   "outputs": [],
   "source": [
    "train_datagen = ImageDataGenerator(rescale=1./255, zoom_range=0.2, shear_range=0.2, horizontal_flip=True)\n",
    "val_datagen = ImageDataGenerator(rescale=1./255)\n",
    "test_datagen = ImageDataGenerator(rescale=1./255)\n",
    "\n",
    "train_generator = train_datagen.flow_from_directory(train_dir, target_size=(224, 224), batch_size=32, class_mode='binary')\n",
    "val_generator = val_datagen.flow_from_directory(val_dir, target_size=(224, 224), batch_size=32, class_mode='binary')\n",
    "test_generator = test_datagen.flow_from_directory(test_dir, target_size=(224, 224), batch_size=32, class_mode='binary')"
   ]
  },
  {
   "cell_type": "markdown",
   "id": "68d136c8",
   "metadata": {},
   "source": [
    "## 🧠 Build the Model using ResNet50"
   ]
  },
  {
   "cell_type": "code",
   "execution_count": null,
   "id": "ffedb61e",
   "metadata": {},
   "outputs": [],
   "source": [
    "base_model = ResNet50(weights='imagenet', include_top=False, input_shape=(224, 224, 3))\n",
    "x = base_model.output\n",
    "x = GlobalAveragePooling2D()(x)\n",
    "x = Dense(1024, activation='relu')(x)\n",
    "predictions = Dense(1, activation='sigmoid')(x)\n",
    "\n",
    "model = Model(inputs=base_model.input, outputs=predictions)\n",
    "\n",
    "for layer in base_model.layers:\n",
    "    layer.trainable = False\n",
    "\n",
    "model.compile(optimizer='adam', loss='binary_crossentropy', metrics=['accuracy'])\n",
    "model.summary()"
   ]
  },
  {
   "cell_type": "markdown",
   "id": "7c4cda74",
   "metadata": {},
   "source": [
    "## 🏋️ Train the Model"
   ]
  },
  {
   "cell_type": "code",
   "execution_count": null,
   "id": "136d6c33",
   "metadata": {},
   "outputs": [],
   "source": [
    "history = model.fit(train_generator, validation_data=val_generator, epochs=5)"
   ]
  },
  {
   "cell_type": "markdown",
   "id": "2c82697f",
   "metadata": {},
   "source": [
    "## 📊 Evaluate the Model"
   ]
  },
  {
   "cell_type": "code",
   "execution_count": null,
   "id": "1a3c9cf1",
   "metadata": {},
   "outputs": [],
   "source": [
    "loss, acc = model.evaluate(test_generator)\n",
    "print(f\"Test Accuracy: {acc:.4f}\")"
   ]
  },
  {
   "cell_type": "markdown",
   "id": "e181e951",
   "metadata": {},
   "source": [
    "## 📈 Plot Accuracy"
   ]
  },
  {
   "cell_type": "code",
   "execution_count": null,
   "id": "35c82d06",
   "metadata": {},
   "outputs": [],
   "source": [
    "plt.plot(history.history['accuracy'], label='Train Acc')\n",
    "plt.plot(history.history['val_accuracy'], label='Val Acc')\n",
    "plt.title('Training and Validation Accuracy')\n",
    "plt.legend()\n",
    "plt.savefig(\"accuracy_graph.png\")\n",
    "plt.show()"
   ]
  },
  {
   "cell_type": "markdown",
   "id": "b07685f8",
   "metadata": {},
   "source": [
    "## 📋 Classification Report"
   ]
  },
  {
   "cell_type": "code",
   "execution_count": null,
   "id": "494d795a",
   "metadata": {},
   "outputs": [],
   "source": [
    "Y_pred = model.predict(test_generator)\n",
    "y_pred = np.round(Y_pred).astype(int)\n",
    "print('Confusion Matrix')\n",
    "print(confusion_matrix(test_generator.classes, y_pred))\n",
    "print('Classification Report')\n",
    "print(classification_report(test_generator.classes, y_pred, target_names=['Normal', 'Pneumonia']))"
   ]
  },
  {
   "cell_type": "markdown",
   "id": "b990ec85",
   "metadata": {},
   "source": [
    "## 💾 Save the Model"
   ]
  },
  {
   "cell_type": "code",
   "execution_count": null,
   "id": "048ba2a6",
   "metadata": {},
   "outputs": [],
   "source": [
    "model.save('pneumonia_detector_model.h5')"
   ]
  }
 ],
 "metadata": {},
 "nbformat": 4,
 "nbformat_minor": 5
}
